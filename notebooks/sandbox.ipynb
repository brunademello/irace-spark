{
 "cells": [
  {
   "cell_type": "code",
   "execution_count": 1,
   "id": "421c0e49-8eda-42f3-b3d8-c8f9269ca6d4",
   "metadata": {},
   "outputs": [],
   "source": [
    "import pathlib\n",
    "import numpy as np\n",
    "import pandas as pd\n",
    "from mimetypes import init\n",
    "import plotly.express as px\n",
    "import plotly.graph_objects as go\n",
    "from datetime import datetime, date\n",
    "import matplotlib.pyplot as plt"
   ]
  },
  {
   "cell_type": "code",
   "execution_count": 20,
   "id": "891902b0-d5e6-4bcc-b1ef-7cb9a5ac2f64",
   "metadata": {},
   "outputs": [
    {
     "data": {
      "text/plain": [
       "'classification,20240328\\nconfiguration_1,16.0153562\\nconfiguration_2,16.142181\\nconfiguration_3,15.852506199999999\\nconfiguration_4,16.1629656\\nconfiguration_5,15.852838700000001\\ndefault,31.222159499999997'"
      ]
     },
     "execution_count": 20,
     "metadata": {},
     "output_type": "execute_result"
    }
   ],
   "source": [
    "\"\"\"classification,20240328\n",
    "configuration_1,16.0153562\n",
    "configuration_2,16.142181\n",
    "configuration_3,15.852506199999999\n",
    "configuration_4,16.1629656\n",
    "configuration_5,15.852838700000001\n",
    "default,31.222159499999997\"\"\""
   ]
  },
  {
   "cell_type": "code",
   "execution_count": 21,
   "id": "50de836c-19df-4945-a8b9-33598369d7da",
   "metadata": {},
   "outputs": [],
   "source": [
    "df = pd.read_clipboard(sep=',')"
   ]
  },
  {
   "cell_type": "code",
   "execution_count": 22,
   "id": "b4c99afc-a4f0-4501-b34d-5dac63758fcd",
   "metadata": {},
   "outputs": [
    {
     "data": {
      "text/html": [
       "<div>\n",
       "<style scoped>\n",
       "    .dataframe tbody tr th:only-of-type {\n",
       "        vertical-align: middle;\n",
       "    }\n",
       "\n",
       "    .dataframe tbody tr th {\n",
       "        vertical-align: top;\n",
       "    }\n",
       "\n",
       "    .dataframe thead th {\n",
       "        text-align: right;\n",
       "    }\n",
       "</style>\n",
       "<table border=\"1\" class=\"dataframe\">\n",
       "  <thead>\n",
       "    <tr style=\"text-align: right;\">\n",
       "      <th></th>\n",
       "      <th>classification</th>\n",
       "      <th>20240328</th>\n",
       "      <th>20240330</th>\n",
       "      <th>20240330_only_spark</th>\n",
       "    </tr>\n",
       "  </thead>\n",
       "  <tbody>\n",
       "    <tr>\n",
       "      <th>0</th>\n",
       "      <td>configuration_1</td>\n",
       "      <td>16.015356</td>\n",
       "      <td>16.109491</td>\n",
       "      <td>31.241305</td>\n",
       "    </tr>\n",
       "    <tr>\n",
       "      <th>1</th>\n",
       "      <td>configuration_2</td>\n",
       "      <td>16.142181</td>\n",
       "      <td>16.031816</td>\n",
       "      <td>31.677596</td>\n",
       "    </tr>\n",
       "    <tr>\n",
       "      <th>2</th>\n",
       "      <td>configuration_3</td>\n",
       "      <td>15.852506</td>\n",
       "      <td>16.041158</td>\n",
       "      <td>31.536580</td>\n",
       "    </tr>\n",
       "    <tr>\n",
       "      <th>3</th>\n",
       "      <td>configuration_4</td>\n",
       "      <td>16.162966</td>\n",
       "      <td>15.840919</td>\n",
       "      <td>31.547795</td>\n",
       "    </tr>\n",
       "    <tr>\n",
       "      <th>4</th>\n",
       "      <td>configuration_5</td>\n",
       "      <td>15.852839</td>\n",
       "      <td>15.869535</td>\n",
       "      <td>0.000000</td>\n",
       "    </tr>\n",
       "    <tr>\n",
       "      <th>5</th>\n",
       "      <td>default</td>\n",
       "      <td>31.222160</td>\n",
       "      <td>31.022122</td>\n",
       "      <td>31.790650</td>\n",
       "    </tr>\n",
       "  </tbody>\n",
       "</table>\n",
       "</div>"
      ],
      "text/plain": [
       "    classification   20240328   20240330  20240330_only_spark\n",
       "0  configuration_1  16.015356  16.109491            31.241305\n",
       "1  configuration_2  16.142181  16.031816            31.677596\n",
       "2  configuration_3  15.852506  16.041158            31.536580\n",
       "3  configuration_4  16.162966  15.840919            31.547795\n",
       "4  configuration_5  15.852839  15.869535             0.000000\n",
       "5          default  31.222160  31.022122            31.790650"
      ]
     },
     "execution_count": 22,
     "metadata": {},
     "output_type": "execute_result"
    }
   ],
   "source": [
    "df"
   ]
  },
  {
   "cell_type": "code",
   "execution_count": 29,
   "id": "08001cf7-7578-404a-9876-54277335147c",
   "metadata": {},
   "outputs": [
    {
     "data": {
      "text/plain": [
       "['20240328', '20240330', '20240330_only_spark']"
      ]
     },
     "execution_count": 29,
     "metadata": {},
     "output_type": "execute_result"
    }
   ],
   "source": [
    "df_columns = list(df.columns)\n",
    "df_columns.pop(0)\n",
    "df_columns"
   ]
  },
  {
   "cell_type": "code",
   "execution_count": 35,
   "id": "350ffbd1-c0a6-4cb9-93b5-cb05cd84b970",
   "metadata": {},
   "outputs": [],
   "source": [
    "df2 = pd.read_clipboard(sep=',')"
   ]
  },
  {
   "cell_type": "code",
   "execution_count": 36,
   "id": "a1eafee4-c9aa-49f3-aa24-6b49ac7ad283",
   "metadata": {},
   "outputs": [
    {
     "data": {
      "text/html": [
       "<div>\n",
       "<style scoped>\n",
       "    .dataframe tbody tr th:only-of-type {\n",
       "        vertical-align: middle;\n",
       "    }\n",
       "\n",
       "    .dataframe tbody tr th {\n",
       "        vertical-align: top;\n",
       "    }\n",
       "\n",
       "    .dataframe thead th {\n",
       "        text-align: right;\n",
       "    }\n",
       "</style>\n",
       "<table border=\"1\" class=\"dataframe\">\n",
       "  <thead>\n",
       "    <tr style=\"text-align: right;\">\n",
       "      <th></th>\n",
       "      <th>config</th>\n",
       "      <th>configuration_1</th>\n",
       "      <th>configuration_2</th>\n",
       "      <th>configuration_3</th>\n",
       "      <th>configuration_4</th>\n",
       "      <th>configuration_5</th>\n",
       "      <th>default</th>\n",
       "    </tr>\n",
       "  </thead>\n",
       "  <tbody>\n",
       "    <tr>\n",
       "      <th>0</th>\n",
       "      <td>20240328</td>\n",
       "      <td>16.015356</td>\n",
       "      <td>16.142181</td>\n",
       "      <td>15.852506</td>\n",
       "      <td>16.162966</td>\n",
       "      <td>15.852839</td>\n",
       "      <td>31.222160</td>\n",
       "    </tr>\n",
       "    <tr>\n",
       "      <th>1</th>\n",
       "      <td>20240330</td>\n",
       "      <td>16.109491</td>\n",
       "      <td>16.031816</td>\n",
       "      <td>16.041158</td>\n",
       "      <td>15.840919</td>\n",
       "      <td>15.869535</td>\n",
       "      <td>31.022122</td>\n",
       "    </tr>\n",
       "    <tr>\n",
       "      <th>2</th>\n",
       "      <td>20240330_only_spark</td>\n",
       "      <td>31.241305</td>\n",
       "      <td>31.677596</td>\n",
       "      <td>31.536580</td>\n",
       "      <td>31.547795</td>\n",
       "      <td>0.000000</td>\n",
       "      <td>31.790650</td>\n",
       "    </tr>\n",
       "  </tbody>\n",
       "</table>\n",
       "</div>"
      ],
      "text/plain": [
       "                config  configuration_1  configuration_2  configuration_3  \\\n",
       "0             20240328        16.015356        16.142181        15.852506   \n",
       "1             20240330        16.109491        16.031816        16.041158   \n",
       "2  20240330_only_spark        31.241305        31.677596        31.536580   \n",
       "\n",
       "   configuration_4  configuration_5    default  \n",
       "0        16.162966        15.852839  31.222160  \n",
       "1        15.840919        15.869535  31.022122  \n",
       "2        31.547795         0.000000  31.790650  "
      ]
     },
     "execution_count": 36,
     "metadata": {},
     "output_type": "execute_result"
    }
   ],
   "source": [
    "df2"
   ]
  },
  {
   "cell_type": "code",
   "execution_count": 38,
   "id": "0bc729d7-48d9-4120-8c8b-9872b458c6a6",
   "metadata": {},
   "outputs": [
    {
     "data": {
      "text/plain": [
       "['20240328', '20240330', '20240330_only_spark']"
      ]
     },
     "execution_count": 38,
     "metadata": {},
     "output_type": "execute_result"
    }
   ],
   "source": [
    "runs = df2['config'].tolist()\n",
    "runs"
   ]
  },
  {
   "cell_type": "code",
   "execution_count": 19,
   "id": "4c9cdc5d-c70e-42d9-a81e-daf6a42abe46",
   "metadata": {},
   "outputs": [],
   "source": [
    "# criando gráfico analítico\n",
    "\n",
    "fig = go.Figure()\n",
    "\n",
    "for column in df_columns:\n",
    "    fig.add_trace(go.Bar(x=df['classification'],\n",
    "                        y=df[column],\n",
    "                        name=column,\n",
    "                        marker=dict(color='rgb(65,65,65)'))\n",
    "            )\n",
    "\n",
    "fig.update_layout(barmode='stack')\n",
    "\n",
    "updatemenu = []\n",
    "buttons = []\n",
    "\n",
    "buttons.append(dict(method='update',\n",
    "                        label='Todos',\n",
    "                        args=[{'visible':[True], 'y':[df['20240328']],  \n",
    "                        'x':[df['classification']],\n",
    "                        'type':'bar'},\n",
    "                        {'title': '<b>20240328</b>'}]\n",
    "                        )\n",
    "                )\n",
    "\n",
    "\n",
    "\n",
    "for run in runs:\n",
    "        buttons.append(dict(method='update',\n",
    "                                label=run,\n",
    "                                args=[{'visible':[True, True, True, True, True],'y':[df[df['config']==run]['configuration_1'], df[df['config']==run]['configuration_2'], df[df['config']==run]['configuration_3'], df[df['config']==run]['configuration_4'], df[df['config']==run]['configuration_5']],  \n",
    "                                'x':[df[df['_shopping']==shopping]['_collected_at']],\n",
    "                                'type':'bar'},\n",
    "                                {\"title\": f'<b>Visão Analítica - MultiVocê - {shopping}</b>',\n",
    "                                \"annotations\": []}\n",
    "                                ]\n",
    "                                )\n",
    "                            )\n",
    "\n",
    "updatemenu = []\n",
    "your_menu = dict()\n",
    "updatemenu.append(your_menu)\n",
    "\n",
    "updatemenu[0]['buttons'] = buttons\n",
    "updatemenu[0]['direction'] = 'right'\n",
    "updatemenu[0]['showactive'] = True\n",
    "\n",
    "fig.write_html(f\"graph.html\")"
   ]
  },
  {
   "cell_type": "code",
   "execution_count": null,
   "id": "94702269-71e2-4e2a-8ff4-e25fb0a86a24",
   "metadata": {},
   "outputs": [],
   "source": []
  },
  {
   "cell_type": "code",
   "execution_count": 61,
   "id": "ccd06dd1-d3b0-4412-80ac-56e140808710",
   "metadata": {},
   "outputs": [
    {
     "name": "stdout",
     "output_type": "stream",
     "text": [
      "0\n",
      "1\n",
      "2\n"
     ]
    }
   ],
   "source": [
    "import pandas as pd\n",
    "import plotly.graph_objects as go\n",
    "\n",
    "# Dados fornecidos\n",
    "data = {\n",
    "    'config': ['20240328', '20240330', '20240330_only_spark'],\n",
    "    'configuration_1': [16.0153562, 16.109491, 31.2413048],\n",
    "    'configuration_2': [16.142181, 16.0318159, 31.6775965],\n",
    "    'configuration_3': [15.852506199999999, 16.041157899999998, 31.5365796],\n",
    "    'configuration_4': [16.1629656, 15.8409186, 31.5477953],\n",
    "    'configuration_5': [15.852838700000001, 15.869535099999998, 0],\n",
    "    'default': [31.222159499999997, 31.022122200000002, 31.7906497]\n",
    "}\n",
    "\n",
    "# Criar DataFrame a partir dos dados\n",
    "df = pd.DataFrame(data)\n",
    "\n",
    "# Coletar todos os valores únicos do campo \"config\"\n",
    "unique_configs = df['config'].unique()\n",
    "\n",
    "# Criar o gráfico de barras\n",
    "fig = go.Figure()\n",
    "\n",
    "# Adicionar as barras para cada configuração\n",
    "for i, config in enumerate(unique_configs):\n",
    "    print(i)\n",
    "    rgb1 = i*25\n",
    "    rgb2 = i*30 \n",
    "    rgb3 = i*45\n",
    "    fig.add_trace(go.Bar(\n",
    "        x=df.columns[1:],\n",
    "        y=df[df['config'] == config].iloc[0, 1:],\n",
    "        name=config,\n",
    "        marker_color=f'rgb({rgb1}, {rgb2}, {rgb3})'  # Cinza\n",
    "    ))\n",
    "\n",
    "# Criar botões para cada valor único no campo \"config\"\n",
    "buttons = []\n",
    "for config in unique_configs:\n",
    "    buttons.append(\n",
    "        dict(\n",
    "            label=config,\n",
    "            method='update',\n",
    "            args=[{'visible': [True if col == config else False for col in unique_configs]}],\n",
    "            args2=[{'y': [df[df['config'] == config].iloc[0, 1:]]}]\n",
    "        )\n",
    "    )\n",
    "\n",
    "# Adicionar botão para mostrar todos os gráficos\n",
    "buttons.append(\n",
    "    dict(\n",
    "        label=\"Show All\",\n",
    "        method=\"update\",\n",
    "        args=[{\"visible\": [True] * len(unique_configs)}],\n",
    "        args2=[{'y': df.iloc[:, 1:].values.tolist()}]\n",
    "    )\n",
    ")\n",
    "\n",
    "# Adicionar botões ao layout\n",
    "fig.update_layout(\n",
    "    updatemenus=[\n",
    "        dict(\n",
    "            buttons=buttons,\n",
    "            direction='down',\n",
    "            showactive=True,\n",
    "            x=0.2,\n",
    "            xanchor='left',\n",
    "            y=1.15,\n",
    "            yanchor='top'\n",
    "        )\n",
    "    ],\n",
    "    title='Experimentos',\n",
    "    xaxis_title='Configuração',\n",
    "    yaxis_title='Média (segundos)'\n",
    ")\n",
    "\n",
    "fig.write_html(f\"graph.html\")"
   ]
  },
  {
   "cell_type": "code",
   "execution_count": null,
   "id": "33b12096-c6f0-4399-9412-57c50a2d2d3f",
   "metadata": {},
   "outputs": [],
   "source": [
    "from dash import Dash, html, dcc, callback, Output, Input\n",
    "import plotly.express as px\n",
    "import pandas as pd\n",
    "\n",
    "df = pd.read_csv('https://raw.githubusercontent.com/plotly/datasets/master/gapminder_unfiltered.csv')\n",
    "\n",
    "app = Dash(__name__)\n",
    "\n",
    "app.layout = html.Div([\n",
    "    html.H1(children='Title of Dash App', style={'textAlign':'center'}),\n",
    "    dcc.Dropdown(df.country.unique(), 'Canada', id='dropdown-selection'),\n",
    "    dcc.Graph(id='graph-content')\n",
    "])\n",
    "\n",
    "@callback(\n",
    "    Output('graph-content', 'figure'),\n",
    "    Input('dropdown-selection', 'value')\n",
    ")\n",
    "def update_graph(value):\n",
    "    dff = df[df.country==value]\n",
    "    return px.line(dff, x='year', y='pop')\n",
    "\n",
    "if __name__ == '__main__':\n",
    "    app.run(debug=True)"
   ]
  },
  {
   "cell_type": "code",
   "execution_count": 64,
   "id": "4d01613e-efd8-4bd2-97a9-504260859e9b",
   "metadata": {},
   "outputs": [
    {
     "data": {
      "text/html": [
       "<div>\n",
       "<style scoped>\n",
       "    .dataframe tbody tr th:only-of-type {\n",
       "        vertical-align: middle;\n",
       "    }\n",
       "\n",
       "    .dataframe tbody tr th {\n",
       "        vertical-align: top;\n",
       "    }\n",
       "\n",
       "    .dataframe thead th {\n",
       "        text-align: right;\n",
       "    }\n",
       "</style>\n",
       "<table border=\"1\" class=\"dataframe\">\n",
       "  <thead>\n",
       "    <tr style=\"text-align: right;\">\n",
       "      <th></th>\n",
       "      <th>index</th>\n",
       "      <th>configuration_1</th>\n",
       "      <th>configuration_2</th>\n",
       "      <th>configuration_3</th>\n",
       "      <th>configuration_4</th>\n",
       "      <th>configuration_5</th>\n",
       "      <th>default</th>\n",
       "    </tr>\n",
       "  </thead>\n",
       "  <tbody>\n",
       "    <tr>\n",
       "      <th>0</th>\n",
       "      <td>20230402</td>\n",
       "      <td>16.063102</td>\n",
       "      <td>16.188972</td>\n",
       "      <td>16.144871</td>\n",
       "      <td>16.100718</td>\n",
       "      <td>16.241861</td>\n",
       "      <td>31.416542</td>\n",
       "    </tr>\n",
       "    <tr>\n",
       "      <th>1</th>\n",
       "      <td>20230402_instances_default</td>\n",
       "      <td>16.101173</td>\n",
       "      <td>16.138013</td>\n",
       "      <td>16.292319</td>\n",
       "      <td>16.384684</td>\n",
       "      <td>16.356293</td>\n",
       "      <td>31.384116</td>\n",
       "    </tr>\n",
       "    <tr>\n",
       "      <th>2</th>\n",
       "      <td>20230402_only_spark</td>\n",
       "      <td>31.358195</td>\n",
       "      <td>31.032221</td>\n",
       "      <td>31.314619</td>\n",
       "      <td>31.341839</td>\n",
       "      <td>31.159680</td>\n",
       "      <td>31.159680</td>\n",
       "    </tr>\n",
       "    <tr>\n",
       "      <th>3</th>\n",
       "      <td>20240328</td>\n",
       "      <td>16.015356</td>\n",
       "      <td>16.142181</td>\n",
       "      <td>15.852506</td>\n",
       "      <td>16.162966</td>\n",
       "      <td>15.852839</td>\n",
       "      <td>31.222159</td>\n",
       "    </tr>\n",
       "    <tr>\n",
       "      <th>4</th>\n",
       "      <td>20240330</td>\n",
       "      <td>16.109491</td>\n",
       "      <td>16.031816</td>\n",
       "      <td>16.041158</td>\n",
       "      <td>15.840919</td>\n",
       "      <td>15.869535</td>\n",
       "      <td>31.022122</td>\n",
       "    </tr>\n",
       "    <tr>\n",
       "      <th>5</th>\n",
       "      <td>20240330_only_cassandra</td>\n",
       "      <td>16.763625</td>\n",
       "      <td>16.956454</td>\n",
       "      <td>16.719840</td>\n",
       "      <td>16.757133</td>\n",
       "      <td>0.000000</td>\n",
       "      <td>31.540408</td>\n",
       "    </tr>\n",
       "    <tr>\n",
       "      <th>6</th>\n",
       "      <td>20240330_only_spark</td>\n",
       "      <td>31.241305</td>\n",
       "      <td>31.677596</td>\n",
       "      <td>31.536580</td>\n",
       "      <td>31.547795</td>\n",
       "      <td>0.000000</td>\n",
       "      <td>31.790650</td>\n",
       "    </tr>\n",
       "  </tbody>\n",
       "</table>\n",
       "</div>"
      ],
      "text/plain": [
       "                        index  configuration_1  configuration_2  \\\n",
       "0                    20230402        16.063102        16.188972   \n",
       "1  20230402_instances_default        16.101173        16.138013   \n",
       "2         20230402_only_spark        31.358195        31.032221   \n",
       "3                    20240328        16.015356        16.142181   \n",
       "4                    20240330        16.109491        16.031816   \n",
       "5     20240330_only_cassandra        16.763625        16.956454   \n",
       "6         20240330_only_spark        31.241305        31.677596   \n",
       "\n",
       "   configuration_3  configuration_4  configuration_5    default  \n",
       "0        16.144871        16.100718        16.241861  31.416542  \n",
       "1        16.292319        16.384684        16.356293  31.384116  \n",
       "2        31.314619        31.341839        31.159680  31.159680  \n",
       "3        15.852506        16.162966        15.852839  31.222159  \n",
       "4        16.041158        15.840919        15.869535  31.022122  \n",
       "5        16.719840        16.757133         0.000000  31.540408  \n",
       "6        31.536580        31.547795         0.000000  31.790650  "
      ]
     },
     "execution_count": 64,
     "metadata": {},
     "output_type": "execute_result"
    }
   ],
   "source": [
    "import pandas as pd\n",
    "\n",
    "# Dados fornecidos\n",
    "data = {\n",
    "    'config': ['20240328', '20240330', '20240330_only_spark', '20240330_only_cassandra', '20230402', '20230402_only_spark', '20230402_instances_default'],\n",
    "    'configuration_1': [16.0153562, 16.109491, 31.2413048, 16.763625400000002, 16.0631024, 31.3581946, 16.1011728],\n",
    "    'configuration_2': [16.142181, 16.0318159, 31.6775965, 16.9564536, 16.188971900000002, 31.0322206, 16.1380133],\n",
    "    'configuration_3': [15.852506199999999, 16.041157899999998, 31.5365796, 16.7198404, 16.1448714, 31.3146187, 16.292319],\n",
    "    'configuration_4': [16.1629656, 15.8409186, 31.5477953, 16.7571328, 16.100718, 31.341838799999998, 16.3846836],\n",
    "    'configuration_5': [15.852838700000001, 15.869535099999998, 0, 0, 16.241861, 31.159679699999998, 16.3562929],\n",
    "    'default': [31.222159499999997, 31.022122200000002, 31.7906497, 31.540408000000003, 31.4165415, 31.159679699999998, 31.3841163]\n",
    "}\n",
    "\n",
    "# Criar DataFrame a partir dos dados\n",
    "df = pd.DataFrame(data)\n",
    "\n",
    "# Pivotear os dados\n",
    "pivot_df = df.pivot_table(index='config', values=['configuration_1', 'configuration_2', 'configuration_3', 'configuration_4', 'configuration_5', 'default'])\n",
    "\n",
    "# Remover o nome do índice\n",
    "pivot_df.index.name = None\n",
    "\n",
    "# Resetar o índice\n",
    "pivot_df.reset_index(inplace=True)\n",
    "\n",
    "# Exibir o DataFrame pivotado\n",
    "pivot_df"
   ]
  },
  {
   "cell_type": "code",
   "execution_count": 65,
   "id": "c28a82b6-512d-477e-9ac4-c63c69873ebf",
   "metadata": {},
   "outputs": [
    {
     "name": "stdout",
     "output_type": "stream",
     "text": [
      "                        config       experiment      value\n",
      "0                     20240328  configuration_1  16.015356\n",
      "1                     20240330  configuration_1  16.109491\n",
      "2          20240330_only_spark  configuration_1  31.241305\n",
      "3      20240330_only_cassandra  configuration_1  16.763625\n",
      "4                     20230402  configuration_1  16.063102\n",
      "5          20230402_only_spark  configuration_1  31.358195\n",
      "6   20230402_instances_default  configuration_1  16.101173\n",
      "7                     20240328  configuration_2  16.142181\n",
      "8                     20240330  configuration_2  16.031816\n",
      "9          20240330_only_spark  configuration_2  31.677596\n",
      "10     20240330_only_cassandra  configuration_2  16.956454\n",
      "11                    20230402  configuration_2  16.188972\n",
      "12         20230402_only_spark  configuration_2  31.032221\n",
      "13  20230402_instances_default  configuration_2  16.138013\n",
      "14                    20240328  configuration_3  15.852506\n",
      "15                    20240330  configuration_3  16.041158\n",
      "16         20240330_only_spark  configuration_3  31.536580\n",
      "17     20240330_only_cassandra  configuration_3  16.719840\n",
      "18                    20230402  configuration_3  16.144871\n",
      "19         20230402_only_spark  configuration_3  31.314619\n",
      "20  20230402_instances_default  configuration_3  16.292319\n",
      "21                    20240328  configuration_4  16.162966\n",
      "22                    20240330  configuration_4  15.840919\n",
      "23         20240330_only_spark  configuration_4  31.547795\n",
      "24     20240330_only_cassandra  configuration_4  16.757133\n",
      "25                    20230402  configuration_4  16.100718\n",
      "26         20230402_only_spark  configuration_4  31.341839\n",
      "27  20230402_instances_default  configuration_4  16.384684\n",
      "28                    20240328  configuration_5  15.852839\n",
      "29                    20240330  configuration_5  15.869535\n",
      "30         20240330_only_spark  configuration_5   0.000000\n",
      "31     20240330_only_cassandra  configuration_5   0.000000\n",
      "32                    20230402  configuration_5  16.241861\n",
      "33         20230402_only_spark  configuration_5  31.159680\n",
      "34  20230402_instances_default  configuration_5  16.356293\n",
      "35                    20240328          default  31.222159\n",
      "36                    20240330          default  31.022122\n",
      "37         20240330_only_spark          default  31.790650\n",
      "38     20240330_only_cassandra          default  31.540408\n",
      "39                    20230402          default  31.416542\n",
      "40         20230402_only_spark          default  31.159680\n",
      "41  20230402_instances_default          default  31.384116\n"
     ]
    }
   ],
   "source": [
    "import pandas as pd\n",
    "\n",
    "# Dados fornecidos\n",
    "data = {\n",
    "    'config': ['20240328', '20240330', '20240330_only_spark', '20240330_only_cassandra', '20230402', '20230402_only_spark', '20230402_instances_default'],\n",
    "    'configuration_1': [16.0153562, 16.109491, 31.2413048, 16.763625400000002, 16.0631024, 31.3581946, 16.1011728],\n",
    "    'configuration_2': [16.142181, 16.0318159, 31.6775965, 16.9564536, 16.188971900000002, 31.0322206, 16.1380133],\n",
    "    'configuration_3': [15.852506199999999, 16.041157899999998, 31.5365796, 16.7198404, 16.1448714, 31.3146187, 16.292319],\n",
    "    'configuration_4': [16.1629656, 15.8409186, 31.5477953, 16.7571328, 16.100718, 31.341838799999998, 16.3846836],\n",
    "    'configuration_5': [15.852838700000001, 15.869535099999998, 0, 0, 16.241861, 31.159679699999998, 16.3562929],\n",
    "    'default': [31.222159499999997, 31.022122200000002, 31.7906497, 31.540408000000003, 31.4165415, 31.159679699999998, 31.3841163]\n",
    "}\n",
    "\n",
    "# Criar DataFrame a partir dos dados\n",
    "df = pd.DataFrame(data)\n",
    "\n",
    "# Converter os dados para o formato de tabela\n",
    "melted_df = pd.melt(df, id_vars=['config'], var_name='experiment', value_name='value')\n",
    "\n",
    "# Exibir o DataFrame no formato desejado\n",
    "print(melted_df)"
   ]
  },
  {
   "cell_type": "code",
   "execution_count": 2,
   "id": "19fa0a0f-2c86-4760-8d37-826bfeb79801",
   "metadata": {},
   "outputs": [
    {
     "data": {
      "image/png": "[encoded data removed]",
      "text/plain": [
       "<Figure size 576x432 with 1 Axes>"
      ]
     },
     "metadata": {
      "needs_background": "light"
     },
     "output_type": "display_data"
    }
   ],
   "source": [
    "# Dados de exemplo (vendas mensais)\n",
    "meses = ['Jan', 'Fev', 'Mar', 'Abr', 'Mai', 'Jun']\n",
    "vendas = [15000, 18000, 22000, 20000, 25000, 23000]\n",
    "\n",
    "# Criando o gráfico de barras\n",
    "plt.figure(figsize=(8, 6))  # Define o tamanho da figura\n",
    "plt.bar(meses, vendas, color='skyblue')  # Plota o gráfico de barras\n",
    "plt.title('Vendas Mensais')  # Define o título do gráfico\n",
    "plt.xlabel('Meses')  # Define o rótulo do eixo x\n",
    "plt.ylabel('Vendas')  # Define o rótulo do eixo y\n",
    "\n",
    "# Mostra o gráfico\n",
    "plt.show()"
   ]
  },
  {
   "cell_type": "code",
   "execution_count": 7,
   "id": "8ac019a1-3d4f-4555-b5c9-deea7e8129ab",
   "metadata": {},
   "outputs": [
    {
     "data": {
      "image/png": "[encoded data removed]",
      "text/plain": [
       "<Figure size 576x432 with 1 Axes>"
      ]
     },
     "metadata": {
      "needs_background": "light"
     },
     "output_type": "display_data"
    }
   ],
   "source": [
    "# Dados de exemplo (vendas mensais)\n",
    "meses = ['Configuration 1', 'Configuration 2', 'Configuration 3', 'Configuration 4', 'Default']\n",
    "vendas = [176.5962022, 176.00921, 176.1499423, 176.537801, 532.7230515]\n",
    "\n",
    "# Criando o gráfico de barras\n",
    "plt.figure(figsize=(8, 6))  # Define o tamanho da figura\n",
    "plt.bar(meses, vendas, color='grey')  # Plota o gráfico de barras\n",
    "#plt.title('Média de Tempo por Configuração')  # Define o título do gráfico\n",
    "plt.xlabel('Configuração')  # Define o rótulo do eixo x\n",
    "plt.ylabel('Média (s)')  # Define o rótulo do eixo y\n",
    "\n",
    "# Mostra o gráfico\n",
    "plt.show()\n",
    "\n",
    "plt.savefig('meu_grafico.png')"
   ]
  },
  {
   "cell_type": "code",
   "execution_count": null,
   "id": "288ed7c6-f546-4ca8-930a-66cda01cbae5",
   "metadata": {},
   "outputs": [],
   "source": []
  },
  {
   "cell_type": "code",
   "execution_count": 5,
   "id": "5a0e6096-c144-49fb-ac48-3ee513a48850",
   "metadata": {},
   "outputs": [
    {
     "data": {
      "image/png": "[encoded data removed]",
      "text/plain": [
       "<Figure size 576x432 with 1 Axes>"
      ]
     },
     "metadata": {
      "needs_background": "light"
     },
     "output_type": "display_data"
    }
   ],
   "source": [
    "import matplotlib.pyplot as plt\n",
    "import numpy as np\n",
    "\n",
    "# Dados de exemplo (altura em centímetros)\n",
    "altura_homens = np.random.normal(loc=175, scale=7, size=100)\n",
    "altura_mulheres = np.random.normal(loc=162, scale=6, size=100)\n",
    "\n",
    "# Criando o boxplot\n",
    "plt.figure(figsize=(8, 6))  # Define o tamanho da figura\n",
    "plt.boxplot([altura_homens, altura_mulheres], labels=['Homens', 'Mulheres'])  # Plota o boxplot\n",
    "plt.title('Distribuição de Altura por Gênero')  # Define o título do gráfico\n",
    "plt.xlabel('Gênero')  # Define o rótulo do eixo x\n",
    "plt.ylabel('Altura (cm)')  # Define o rótulo do eixo y\n",
    "\n",
    "# Mostra o boxplot\n",
    "plt.show()"
   ]
  },
  {
   "cell_type": "code",
   "execution_count": 6,
   "id": "a4c9f114-2025-4eb6-a98c-97cffec0ec24",
   "metadata": {},
   "outputs": [
    {
     "data": {
      "text/plain": [
       "<Figure size 576x432 with 0 Axes>"
      ]
     },
     "metadata": {},
     "output_type": "display_data"
    },
    {
     "data": {
      "image/png": "[encoded data removed]",
      "text/plain": [
       "<Figure size 432x288 with 1 Axes>"
      ]
     },
     "metadata": {
      "needs_background": "light"
     },
     "output_type": "display_data"
    }
   ],
   "source": [
    "import pandas as pd\n",
    "import matplotlib.pyplot as plt\n",
    "\n",
    "# Exemplo de DataFrame com altura e gênero\n",
    "dados = {\n",
    "    'altura': [170, 165, 180, 175, 160, 168, 172, 185, 170, 175],\n",
    "    'gênero': ['M', 'F', 'M', 'F', 'M', 'F', 'M', 'F', 'M', 'F']\n",
    "}\n",
    "\n",
    "df = pd.DataFrame(dados)\n",
    "\n",
    "# Calcular o boxplot por gênero\n",
    "plt.figure(figsize=(8, 6))\n",
    "df.boxplot(column='altura', by='gênero')\n",
    "plt.title('Boxplot de Altura por Gênero') \n",
    "plt.xlabel('Gênero')\n",
    "plt.ylabel('Altura (cm)')\n",
    "plt.suptitle('')  # Remover o título padrão do boxplot\n",
    "plt.show()"
   ]
  }
 ],
 "metadata": {
  "kernelspec": {
   "display_name": "Python 3 (ipykernel)",
   "language": "python",
   "name": "python3"
  },
  "language_info": {
   "codemirror_mode": {
    "name": "ipython",
    "version": 3
   },
   "file_extension": ".py",
   "mimetype": "text/x-python",
   "name": "python",
   "nbconvert_exporter": "python",
   "pygments_lexer": "ipython3",
   "version": "3.9.7"
  }
 },
 "nbformat": 4,
 "nbformat_minor": 5
}
